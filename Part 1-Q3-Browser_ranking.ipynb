{
 "cells": [
  {
   "cell_type": "code",
   "execution_count": 35,
   "id": "74bd6335",
   "metadata": {},
   "outputs": [],
   "source": [
    "import pandas as pd\n",
    "\n",
    "import matplotlib.pyplot as plt"
   ]
  },
  {
   "cell_type": "code",
   "execution_count": 2,
   "id": "a142cd6c",
   "metadata": {},
   "outputs": [],
   "source": [
    "f = pd.read_csv('browser_rankings_data.csv',index_col='ID')"
   ]
  },
  {
   "cell_type": "markdown",
   "id": "62a1be02",
   "metadata": {},
   "source": [
    "## EDA Analysis of the data"
   ]
  },
  {
   "cell_type": "code",
   "execution_count": 3,
   "id": "81430657",
   "metadata": {},
   "outputs": [
    {
     "data": {
      "text/html": [
       "<div>\n",
       "<style scoped>\n",
       "    .dataframe tbody tr th:only-of-type {\n",
       "        vertical-align: middle;\n",
       "    }\n",
       "\n",
       "    .dataframe tbody tr th {\n",
       "        vertical-align: top;\n",
       "    }\n",
       "\n",
       "    .dataframe thead th {\n",
       "        text-align: right;\n",
       "    }\n",
       "</style>\n",
       "<table border=\"1\" class=\"dataframe\">\n",
       "  <thead>\n",
       "    <tr style=\"text-align: right;\">\n",
       "      <th></th>\n",
       "      <th>Keyword</th>\n",
       "      <th>Rank</th>\n",
       "      <th>Country</th>\n",
       "      <th>Language</th>\n",
       "      <th>Date</th>\n",
       "      <th>App ID</th>\n",
       "      <th>Date of Last Description Change</th>\n",
       "      <th>Short Description</th>\n",
       "      <th>Long Description</th>\n",
       "    </tr>\n",
       "    <tr>\n",
       "      <th>ID</th>\n",
       "      <th></th>\n",
       "      <th></th>\n",
       "      <th></th>\n",
       "      <th></th>\n",
       "      <th></th>\n",
       "      <th></th>\n",
       "      <th></th>\n",
       "      <th></th>\n",
       "      <th></th>\n",
       "    </tr>\n",
       "  </thead>\n",
       "  <tbody>\n",
       "    <tr>\n",
       "      <th>1</th>\n",
       "      <td>browser</td>\n",
       "      <td>2.0</td>\n",
       "      <td>in</td>\n",
       "      <td>en</td>\n",
       "      <td>16-12-2020</td>\n",
       "      <td>net.fast.web.browser</td>\n",
       "      <td>18-12-2020</td>\n",
       "      <td>The small, fastest, secure Web Browser, best m...</td>\n",
       "      <td>One of the smallest, fastest, secure Web Brows...</td>\n",
       "    </tr>\n",
       "    <tr>\n",
       "      <th>2</th>\n",
       "      <td>browser</td>\n",
       "      <td>3.0</td>\n",
       "      <td>in</td>\n",
       "      <td>en</td>\n",
       "      <td>16-12-2020</td>\n",
       "      <td>com.android.chrome</td>\n",
       "      <td>18-12-2020</td>\n",
       "      <td>Fast, simple, and secure. Google Chrome browse...</td>\n",
       "      <td>Google Chrome is a fast, easy to use, and secu...</td>\n",
       "    </tr>\n",
       "    <tr>\n",
       "      <th>3</th>\n",
       "      <td>browser</td>\n",
       "      <td>4.0</td>\n",
       "      <td>in</td>\n",
       "      <td>en</td>\n",
       "      <td>16-12-2020</td>\n",
       "      <td>com.opera.browser</td>\n",
       "      <td>27-02-2021</td>\n",
       "      <td>Fast, safe web browser: free VPN, Ad blocker, ...</td>\n",
       "      <td>Fast, safe and private, introducing the latest...</td>\n",
       "    </tr>\n",
       "    <tr>\n",
       "      <th>3</th>\n",
       "      <td>browser</td>\n",
       "      <td>4.0</td>\n",
       "      <td>in</td>\n",
       "      <td>en</td>\n",
       "      <td>16-12-2020</td>\n",
       "      <td>com.opera.browser</td>\n",
       "      <td>18-12-2020</td>\n",
       "      <td>Fast, safe web browser: free VPN, Ad blocker, ...</td>\n",
       "      <td>Opera is a fast, safe web browser for your And...</td>\n",
       "    </tr>\n",
       "    <tr>\n",
       "      <th>4</th>\n",
       "      <td>browser</td>\n",
       "      <td>1.0</td>\n",
       "      <td>in</td>\n",
       "      <td>en</td>\n",
       "      <td>16-12-2020</td>\n",
       "      <td>com.cloudmosa.puffinTV</td>\n",
       "      <td>07-02-2021</td>\n",
       "      <td>Puffin TV Browser - One App to Watch All Video...</td>\n",
       "      <td>Puffin TV Browser is a special edition of Puff...</td>\n",
       "    </tr>\n",
       "  </tbody>\n",
       "</table>\n",
       "</div>"
      ],
      "text/plain": [
       "    Keyword  Rank Country Language        Date                  App ID  \\\n",
       "ID                                                                       \n",
       "1   browser   2.0      in       en  16-12-2020    net.fast.web.browser   \n",
       "2   browser   3.0      in       en  16-12-2020      com.android.chrome   \n",
       "3   browser   4.0      in       en  16-12-2020       com.opera.browser   \n",
       "3   browser   4.0      in       en  16-12-2020       com.opera.browser   \n",
       "4   browser   1.0      in       en  16-12-2020  com.cloudmosa.puffinTV   \n",
       "\n",
       "   Date of Last Description Change  \\\n",
       "ID                                   \n",
       "1                       18-12-2020   \n",
       "2                       18-12-2020   \n",
       "3                       27-02-2021   \n",
       "3                       18-12-2020   \n",
       "4                       07-02-2021   \n",
       "\n",
       "                                    Short Description  \\\n",
       "ID                                                      \n",
       "1   The small, fastest, secure Web Browser, best m...   \n",
       "2   Fast, simple, and secure. Google Chrome browse...   \n",
       "3   Fast, safe web browser: free VPN, Ad blocker, ...   \n",
       "3   Fast, safe web browser: free VPN, Ad blocker, ...   \n",
       "4   Puffin TV Browser - One App to Watch All Video...   \n",
       "\n",
       "                                     Long Description  \n",
       "ID                                                     \n",
       "1   One of the smallest, fastest, secure Web Brows...  \n",
       "2   Google Chrome is a fast, easy to use, and secu...  \n",
       "3   Fast, safe and private, introducing the latest...  \n",
       "3   Opera is a fast, safe web browser for your And...  \n",
       "4   Puffin TV Browser is a special edition of Puff...  "
      ]
     },
     "execution_count": 3,
     "metadata": {},
     "output_type": "execute_result"
    }
   ],
   "source": [
    "f.head()"
   ]
  },
  {
   "cell_type": "code",
   "execution_count": 4,
   "id": "f5e3c2c6",
   "metadata": {},
   "outputs": [
    {
     "data": {
      "text/plain": [
       "(3066, 9)"
      ]
     },
     "execution_count": 4,
     "metadata": {},
     "output_type": "execute_result"
    }
   ],
   "source": [
    "f.shape"
   ]
  },
  {
   "cell_type": "code",
   "execution_count": 5,
   "id": "3f453ac9",
   "metadata": {},
   "outputs": [
    {
     "name": "stdout",
     "output_type": "stream",
     "text": [
      "<class 'pandas.core.frame.DataFrame'>\n",
      "Int64Index: 3066 entries, 1 to 131576\n",
      "Data columns (total 9 columns):\n",
      " #   Column                           Non-Null Count  Dtype  \n",
      "---  ------                           --------------  -----  \n",
      " 0   Keyword                          3066 non-null   object \n",
      " 1   Rank                             3050 non-null   float64\n",
      " 2   Country                          3066 non-null   object \n",
      " 3   Language                         3066 non-null   object \n",
      " 4   Date                             3066 non-null   object \n",
      " 5   App ID                           3066 non-null   object \n",
      " 6   Date of Last Description Change  3066 non-null   object \n",
      " 7   Short Description                3066 non-null   object \n",
      " 8   Long Description                 3066 non-null   object \n",
      "dtypes: float64(1), object(8)\n",
      "memory usage: 239.5+ KB\n"
     ]
    }
   ],
   "source": [
    "f.info()"
   ]
  },
  {
   "cell_type": "code",
   "execution_count": 6,
   "id": "59bc8901",
   "metadata": {},
   "outputs": [
    {
     "data": {
      "text/plain": [
       "Index(['Keyword', 'Rank', 'Country', 'Language', 'Date', 'App ID',\n",
       "       'Date of Last Description Change', 'Short Description',\n",
       "       'Long Description'],\n",
       "      dtype='object')"
      ]
     },
     "execution_count": 6,
     "metadata": {},
     "output_type": "execute_result"
    }
   ],
   "source": [
    "f.columns"
   ]
  },
  {
   "cell_type": "code",
   "execution_count": 7,
   "id": "176259cc",
   "metadata": {},
   "outputs": [
    {
     "data": {
      "text/plain": [
       "Keyword                            False\n",
       "Rank                                True\n",
       "Country                            False\n",
       "Language                           False\n",
       "Date                               False\n",
       "App ID                             False\n",
       "Date of Last Description Change    False\n",
       "Short Description                  False\n",
       "Long Description                   False\n",
       "dtype: bool"
      ]
     },
     "execution_count": 7,
     "metadata": {},
     "output_type": "execute_result"
    }
   ],
   "source": [
    "f.isnull().any()"
   ]
  },
  {
   "cell_type": "code",
   "execution_count": 16,
   "id": "720d26ed",
   "metadata": {},
   "outputs": [
    {
     "data": {
      "text/html": [
       "<div>\n",
       "<style scoped>\n",
       "    .dataframe tbody tr th:only-of-type {\n",
       "        vertical-align: middle;\n",
       "    }\n",
       "\n",
       "    .dataframe tbody tr th {\n",
       "        vertical-align: top;\n",
       "    }\n",
       "\n",
       "    .dataframe thead th {\n",
       "        text-align: right;\n",
       "    }\n",
       "</style>\n",
       "<table border=\"1\" class=\"dataframe\">\n",
       "  <thead>\n",
       "    <tr style=\"text-align: right;\">\n",
       "      <th></th>\n",
       "      <th>Keyword</th>\n",
       "      <th>Rank</th>\n",
       "      <th>Country</th>\n",
       "      <th>Language</th>\n",
       "      <th>Date</th>\n",
       "      <th>App ID</th>\n",
       "      <th>Date of Last Description Change</th>\n",
       "      <th>Short Description</th>\n",
       "      <th>Long Description</th>\n",
       "    </tr>\n",
       "    <tr>\n",
       "      <th>ID</th>\n",
       "      <th></th>\n",
       "      <th></th>\n",
       "      <th></th>\n",
       "      <th></th>\n",
       "      <th></th>\n",
       "      <th></th>\n",
       "      <th></th>\n",
       "      <th></th>\n",
       "      <th></th>\n",
       "    </tr>\n",
       "  </thead>\n",
       "  <tbody>\n",
       "    <tr>\n",
       "      <th>1</th>\n",
       "      <td>browser</td>\n",
       "      <td>2.0</td>\n",
       "      <td>in</td>\n",
       "      <td>en</td>\n",
       "      <td>16-12-2020</td>\n",
       "      <td>net.fast.web.browser</td>\n",
       "      <td>18-12-2020</td>\n",
       "      <td>The small, fastest, secure Web Browser, best m...</td>\n",
       "      <td>One of the smallest, fastest, secure Web Brows...</td>\n",
       "    </tr>\n",
       "    <tr>\n",
       "      <th>2</th>\n",
       "      <td>browser</td>\n",
       "      <td>3.0</td>\n",
       "      <td>in</td>\n",
       "      <td>en</td>\n",
       "      <td>16-12-2020</td>\n",
       "      <td>com.android.chrome</td>\n",
       "      <td>18-12-2020</td>\n",
       "      <td>Fast, simple, and secure. Google Chrome browse...</td>\n",
       "      <td>Google Chrome is a fast, easy to use, and secu...</td>\n",
       "    </tr>\n",
       "    <tr>\n",
       "      <th>3</th>\n",
       "      <td>browser</td>\n",
       "      <td>4.0</td>\n",
       "      <td>in</td>\n",
       "      <td>en</td>\n",
       "      <td>16-12-2020</td>\n",
       "      <td>com.opera.browser</td>\n",
       "      <td>27-02-2021</td>\n",
       "      <td>Fast, safe web browser: free VPN, Ad blocker, ...</td>\n",
       "      <td>Fast, safe and private, introducing the latest...</td>\n",
       "    </tr>\n",
       "    <tr>\n",
       "      <th>3</th>\n",
       "      <td>browser</td>\n",
       "      <td>4.0</td>\n",
       "      <td>in</td>\n",
       "      <td>en</td>\n",
       "      <td>16-12-2020</td>\n",
       "      <td>com.opera.browser</td>\n",
       "      <td>18-12-2020</td>\n",
       "      <td>Fast, safe web browser: free VPN, Ad blocker, ...</td>\n",
       "      <td>Opera is a fast, safe web browser for your And...</td>\n",
       "    </tr>\n",
       "    <tr>\n",
       "      <th>4</th>\n",
       "      <td>browser</td>\n",
       "      <td>1.0</td>\n",
       "      <td>in</td>\n",
       "      <td>en</td>\n",
       "      <td>16-12-2020</td>\n",
       "      <td>com.cloudmosa.puffinTV</td>\n",
       "      <td>07-02-2021</td>\n",
       "      <td>Puffin TV Browser - One App to Watch All Video...</td>\n",
       "      <td>Puffin TV Browser is a special edition of Puff...</td>\n",
       "    </tr>\n",
       "    <tr>\n",
       "      <th>...</th>\n",
       "      <td>...</td>\n",
       "      <td>...</td>\n",
       "      <td>...</td>\n",
       "      <td>...</td>\n",
       "      <td>...</td>\n",
       "      <td>...</td>\n",
       "      <td>...</td>\n",
       "      <td>...</td>\n",
       "      <td>...</td>\n",
       "    </tr>\n",
       "    <tr>\n",
       "      <th>131575</th>\n",
       "      <td>android browser</td>\n",
       "      <td>7.0</td>\n",
       "      <td>in</td>\n",
       "      <td>en</td>\n",
       "      <td>06-03-2021</td>\n",
       "      <td>com.opera.browser</td>\n",
       "      <td>18-12-2020</td>\n",
       "      <td>Fast, safe web browser: free VPN, Ad blocker, ...</td>\n",
       "      <td>Opera is a fast, safe web browser for your And...</td>\n",
       "    </tr>\n",
       "    <tr>\n",
       "      <th>131576</th>\n",
       "      <td>android browser</td>\n",
       "      <td>5.0</td>\n",
       "      <td>in</td>\n",
       "      <td>en</td>\n",
       "      <td>06-03-2021</td>\n",
       "      <td>com.cloudmosa.puffinTV</td>\n",
       "      <td>07-02-2021</td>\n",
       "      <td>Puffin TV Browser - One App to Watch All Video...</td>\n",
       "      <td>Puffin TV Browser is a special edition of Puff...</td>\n",
       "    </tr>\n",
       "    <tr>\n",
       "      <th>131576</th>\n",
       "      <td>android browser</td>\n",
       "      <td>5.0</td>\n",
       "      <td>in</td>\n",
       "      <td>en</td>\n",
       "      <td>06-03-2021</td>\n",
       "      <td>com.cloudmosa.puffinTV</td>\n",
       "      <td>06-02-2021</td>\n",
       "      <td>Puffin TV Browser - One App to Watch All Video...</td>\n",
       "      <td>Puffin TV Browser is a special edition of Puff...</td>\n",
       "    </tr>\n",
       "    <tr>\n",
       "      <th>131576</th>\n",
       "      <td>android browser</td>\n",
       "      <td>5.0</td>\n",
       "      <td>in</td>\n",
       "      <td>en</td>\n",
       "      <td>06-03-2021</td>\n",
       "      <td>com.cloudmosa.puffinTV</td>\n",
       "      <td>21-01-2021</td>\n",
       "      <td>Puffin TV Browser - One App to Watch All Video...</td>\n",
       "      <td>Puffin TV Browser is a special edition of Puff...</td>\n",
       "    </tr>\n",
       "    <tr>\n",
       "      <th>131576</th>\n",
       "      <td>android browser</td>\n",
       "      <td>5.0</td>\n",
       "      <td>in</td>\n",
       "      <td>en</td>\n",
       "      <td>06-03-2021</td>\n",
       "      <td>com.cloudmosa.puffinTV</td>\n",
       "      <td>18-12-2020</td>\n",
       "      <td>Puffin TV Browser - One App to Watch All Video...</td>\n",
       "      <td>Puffin TV Browser is a special edition of Puff...</td>\n",
       "    </tr>\n",
       "  </tbody>\n",
       "</table>\n",
       "<p>3050 rows × 9 columns</p>\n",
       "</div>"
      ],
      "text/plain": [
       "                Keyword  Rank Country Language        Date  \\\n",
       "ID                                                           \n",
       "1               browser   2.0      in       en  16-12-2020   \n",
       "2               browser   3.0      in       en  16-12-2020   \n",
       "3               browser   4.0      in       en  16-12-2020   \n",
       "3               browser   4.0      in       en  16-12-2020   \n",
       "4               browser   1.0      in       en  16-12-2020   \n",
       "...                 ...   ...     ...      ...         ...   \n",
       "131575  android browser   7.0      in       en  06-03-2021   \n",
       "131576  android browser   5.0      in       en  06-03-2021   \n",
       "131576  android browser   5.0      in       en  06-03-2021   \n",
       "131576  android browser   5.0      in       en  06-03-2021   \n",
       "131576  android browser   5.0      in       en  06-03-2021   \n",
       "\n",
       "                        App ID Date of Last Description Change  \\\n",
       "ID                                                               \n",
       "1         net.fast.web.browser                      18-12-2020   \n",
       "2           com.android.chrome                      18-12-2020   \n",
       "3            com.opera.browser                      27-02-2021   \n",
       "3            com.opera.browser                      18-12-2020   \n",
       "4       com.cloudmosa.puffinTV                      07-02-2021   \n",
       "...                        ...                             ...   \n",
       "131575       com.opera.browser                      18-12-2020   \n",
       "131576  com.cloudmosa.puffinTV                      07-02-2021   \n",
       "131576  com.cloudmosa.puffinTV                      06-02-2021   \n",
       "131576  com.cloudmosa.puffinTV                      21-01-2021   \n",
       "131576  com.cloudmosa.puffinTV                      18-12-2020   \n",
       "\n",
       "                                        Short Description  \\\n",
       "ID                                                          \n",
       "1       The small, fastest, secure Web Browser, best m...   \n",
       "2       Fast, simple, and secure. Google Chrome browse...   \n",
       "3       Fast, safe web browser: free VPN, Ad blocker, ...   \n",
       "3       Fast, safe web browser: free VPN, Ad blocker, ...   \n",
       "4       Puffin TV Browser - One App to Watch All Video...   \n",
       "...                                                   ...   \n",
       "131575  Fast, safe web browser: free VPN, Ad blocker, ...   \n",
       "131576  Puffin TV Browser - One App to Watch All Video...   \n",
       "131576  Puffin TV Browser - One App to Watch All Video...   \n",
       "131576  Puffin TV Browser - One App to Watch All Video...   \n",
       "131576  Puffin TV Browser - One App to Watch All Video...   \n",
       "\n",
       "                                         Long Description  \n",
       "ID                                                         \n",
       "1       One of the smallest, fastest, secure Web Brows...  \n",
       "2       Google Chrome is a fast, easy to use, and secu...  \n",
       "3       Fast, safe and private, introducing the latest...  \n",
       "3       Opera is a fast, safe web browser for your And...  \n",
       "4       Puffin TV Browser is a special edition of Puff...  \n",
       "...                                                   ...  \n",
       "131575  Opera is a fast, safe web browser for your And...  \n",
       "131576  Puffin TV Browser is a special edition of Puff...  \n",
       "131576  Puffin TV Browser is a special edition of Puff...  \n",
       "131576  Puffin TV Browser is a special edition of Puff...  \n",
       "131576  Puffin TV Browser is a special edition of Puff...  \n",
       "\n",
       "[3050 rows x 9 columns]"
      ]
     },
     "execution_count": 16,
     "metadata": {},
     "output_type": "execute_result"
    }
   ],
   "source": [
    "f.dropna()"
   ]
  },
  {
   "cell_type": "code",
   "execution_count": 17,
   "id": "49343dd3",
   "metadata": {},
   "outputs": [
    {
     "data": {
      "text/plain": [
       "Keyword                            False\n",
       "Rank                               False\n",
       "Country                            False\n",
       "Language                           False\n",
       "Date                               False\n",
       "App ID                             False\n",
       "Date of Last Description Change    False\n",
       "Short Description                  False\n",
       "Long Description                   False\n",
       "dtype: bool"
      ]
     },
     "execution_count": 17,
     "metadata": {},
     "output_type": "execute_result"
    }
   ],
   "source": [
    "f.isnull().any()"
   ]
  },
  {
   "cell_type": "markdown",
   "id": "c767c414",
   "metadata": {},
   "source": [
    "## Removing columns which have less significance"
   ]
  },
  {
   "cell_type": "code",
   "execution_count": 26,
   "id": "fe1b0364",
   "metadata": {},
   "outputs": [],
   "source": [
    "f.drop(['Country','Date','Date of Last Description Change',],axis = 1 ,inplace = True)"
   ]
  },
  {
   "cell_type": "code",
   "execution_count": 27,
   "id": "46c694fd",
   "metadata": {},
   "outputs": [
    {
     "data": {
      "text/html": [
       "<div>\n",
       "<style scoped>\n",
       "    .dataframe tbody tr th:only-of-type {\n",
       "        vertical-align: middle;\n",
       "    }\n",
       "\n",
       "    .dataframe tbody tr th {\n",
       "        vertical-align: top;\n",
       "    }\n",
       "\n",
       "    .dataframe thead th {\n",
       "        text-align: right;\n",
       "    }\n",
       "</style>\n",
       "<table border=\"1\" class=\"dataframe\">\n",
       "  <thead>\n",
       "    <tr style=\"text-align: right;\">\n",
       "      <th></th>\n",
       "      <th>Keyword</th>\n",
       "      <th>Rank</th>\n",
       "      <th>Language</th>\n",
       "      <th>App ID</th>\n",
       "      <th>Short Description</th>\n",
       "      <th>Long Description</th>\n",
       "    </tr>\n",
       "    <tr>\n",
       "      <th>ID</th>\n",
       "      <th></th>\n",
       "      <th></th>\n",
       "      <th></th>\n",
       "      <th></th>\n",
       "      <th></th>\n",
       "      <th></th>\n",
       "    </tr>\n",
       "  </thead>\n",
       "  <tbody>\n",
       "    <tr>\n",
       "      <th>1</th>\n",
       "      <td>browser</td>\n",
       "      <td>2.0</td>\n",
       "      <td>en</td>\n",
       "      <td>net.fast.web.browser</td>\n",
       "      <td>The small, fastest, secure Web Browser, best m...</td>\n",
       "      <td>One of the smallest, fastest, secure Web Brows...</td>\n",
       "    </tr>\n",
       "    <tr>\n",
       "      <th>2</th>\n",
       "      <td>browser</td>\n",
       "      <td>3.0</td>\n",
       "      <td>en</td>\n",
       "      <td>com.android.chrome</td>\n",
       "      <td>Fast, simple, and secure. Google Chrome browse...</td>\n",
       "      <td>Google Chrome is a fast, easy to use, and secu...</td>\n",
       "    </tr>\n",
       "    <tr>\n",
       "      <th>3</th>\n",
       "      <td>browser</td>\n",
       "      <td>4.0</td>\n",
       "      <td>en</td>\n",
       "      <td>com.opera.browser</td>\n",
       "      <td>Fast, safe web browser: free VPN, Ad blocker, ...</td>\n",
       "      <td>Fast, safe and private, introducing the latest...</td>\n",
       "    </tr>\n",
       "    <tr>\n",
       "      <th>3</th>\n",
       "      <td>browser</td>\n",
       "      <td>4.0</td>\n",
       "      <td>en</td>\n",
       "      <td>com.opera.browser</td>\n",
       "      <td>Fast, safe web browser: free VPN, Ad blocker, ...</td>\n",
       "      <td>Opera is a fast, safe web browser for your And...</td>\n",
       "    </tr>\n",
       "    <tr>\n",
       "      <th>4</th>\n",
       "      <td>browser</td>\n",
       "      <td>1.0</td>\n",
       "      <td>en</td>\n",
       "      <td>com.cloudmosa.puffinTV</td>\n",
       "      <td>Puffin TV Browser - One App to Watch All Video...</td>\n",
       "      <td>Puffin TV Browser is a special edition of Puff...</td>\n",
       "    </tr>\n",
       "    <tr>\n",
       "      <th>...</th>\n",
       "      <td>...</td>\n",
       "      <td>...</td>\n",
       "      <td>...</td>\n",
       "      <td>...</td>\n",
       "      <td>...</td>\n",
       "      <td>...</td>\n",
       "    </tr>\n",
       "    <tr>\n",
       "      <th>131575</th>\n",
       "      <td>android browser</td>\n",
       "      <td>7.0</td>\n",
       "      <td>en</td>\n",
       "      <td>com.opera.browser</td>\n",
       "      <td>Fast, safe web browser: free VPN, Ad blocker, ...</td>\n",
       "      <td>Opera is a fast, safe web browser for your And...</td>\n",
       "    </tr>\n",
       "    <tr>\n",
       "      <th>131576</th>\n",
       "      <td>android browser</td>\n",
       "      <td>5.0</td>\n",
       "      <td>en</td>\n",
       "      <td>com.cloudmosa.puffinTV</td>\n",
       "      <td>Puffin TV Browser - One App to Watch All Video...</td>\n",
       "      <td>Puffin TV Browser is a special edition of Puff...</td>\n",
       "    </tr>\n",
       "    <tr>\n",
       "      <th>131576</th>\n",
       "      <td>android browser</td>\n",
       "      <td>5.0</td>\n",
       "      <td>en</td>\n",
       "      <td>com.cloudmosa.puffinTV</td>\n",
       "      <td>Puffin TV Browser - One App to Watch All Video...</td>\n",
       "      <td>Puffin TV Browser is a special edition of Puff...</td>\n",
       "    </tr>\n",
       "    <tr>\n",
       "      <th>131576</th>\n",
       "      <td>android browser</td>\n",
       "      <td>5.0</td>\n",
       "      <td>en</td>\n",
       "      <td>com.cloudmosa.puffinTV</td>\n",
       "      <td>Puffin TV Browser - One App to Watch All Video...</td>\n",
       "      <td>Puffin TV Browser is a special edition of Puff...</td>\n",
       "    </tr>\n",
       "    <tr>\n",
       "      <th>131576</th>\n",
       "      <td>android browser</td>\n",
       "      <td>5.0</td>\n",
       "      <td>en</td>\n",
       "      <td>com.cloudmosa.puffinTV</td>\n",
       "      <td>Puffin TV Browser - One App to Watch All Video...</td>\n",
       "      <td>Puffin TV Browser is a special edition of Puff...</td>\n",
       "    </tr>\n",
       "  </tbody>\n",
       "</table>\n",
       "<p>3050 rows × 6 columns</p>\n",
       "</div>"
      ],
      "text/plain": [
       "                Keyword  Rank Language                  App ID  \\\n",
       "ID                                                               \n",
       "1               browser   2.0       en    net.fast.web.browser   \n",
       "2               browser   3.0       en      com.android.chrome   \n",
       "3               browser   4.0       en       com.opera.browser   \n",
       "3               browser   4.0       en       com.opera.browser   \n",
       "4               browser   1.0       en  com.cloudmosa.puffinTV   \n",
       "...                 ...   ...      ...                     ...   \n",
       "131575  android browser   7.0       en       com.opera.browser   \n",
       "131576  android browser   5.0       en  com.cloudmosa.puffinTV   \n",
       "131576  android browser   5.0       en  com.cloudmosa.puffinTV   \n",
       "131576  android browser   5.0       en  com.cloudmosa.puffinTV   \n",
       "131576  android browser   5.0       en  com.cloudmosa.puffinTV   \n",
       "\n",
       "                                        Short Description  \\\n",
       "ID                                                          \n",
       "1       The small, fastest, secure Web Browser, best m...   \n",
       "2       Fast, simple, and secure. Google Chrome browse...   \n",
       "3       Fast, safe web browser: free VPN, Ad blocker, ...   \n",
       "3       Fast, safe web browser: free VPN, Ad blocker, ...   \n",
       "4       Puffin TV Browser - One App to Watch All Video...   \n",
       "...                                                   ...   \n",
       "131575  Fast, safe web browser: free VPN, Ad blocker, ...   \n",
       "131576  Puffin TV Browser - One App to Watch All Video...   \n",
       "131576  Puffin TV Browser - One App to Watch All Video...   \n",
       "131576  Puffin TV Browser - One App to Watch All Video...   \n",
       "131576  Puffin TV Browser - One App to Watch All Video...   \n",
       "\n",
       "                                         Long Description  \n",
       "ID                                                         \n",
       "1       One of the smallest, fastest, secure Web Brows...  \n",
       "2       Google Chrome is a fast, easy to use, and secu...  \n",
       "3       Fast, safe and private, introducing the latest...  \n",
       "3       Opera is a fast, safe web browser for your And...  \n",
       "4       Puffin TV Browser is a special edition of Puff...  \n",
       "...                                                   ...  \n",
       "131575  Opera is a fast, safe web browser for your And...  \n",
       "131576  Puffin TV Browser is a special edition of Puff...  \n",
       "131576  Puffin TV Browser is a special edition of Puff...  \n",
       "131576  Puffin TV Browser is a special edition of Puff...  \n",
       "131576  Puffin TV Browser is a special edition of Puff...  \n",
       "\n",
       "[3050 rows x 6 columns]"
      ]
     },
     "execution_count": 27,
     "metadata": {},
     "output_type": "execute_result"
    }
   ],
   "source": [
    "f"
   ]
  },
  {
   "cell_type": "code",
   "execution_count": 31,
   "id": "6c78f62f",
   "metadata": {},
   "outputs": [
    {
     "data": {
      "text/plain": [
       "array(['en'], dtype=object)"
      ]
     },
     "execution_count": 31,
     "metadata": {},
     "output_type": "execute_result"
    }
   ],
   "source": [
    "f['Language'].unique()"
   ]
  },
  {
   "cell_type": "code",
   "execution_count": 32,
   "id": "9c2674ab",
   "metadata": {},
   "outputs": [
    {
     "data": {
      "text/plain": [
       "array(['browser', 'android browser', 'privacy browser',\n",
       "       'privacy browsers for android', 'best privacy browsers',\n",
       "       'fast browser', 'ad free browser'], dtype=object)"
      ]
     },
     "execution_count": 32,
     "metadata": {},
     "output_type": "execute_result"
    }
   ],
   "source": [
    "f['Keyword'].unique()"
   ]
  },
  {
   "cell_type": "code",
   "execution_count": 47,
   "id": "d2120da9",
   "metadata": {},
   "outputs": [
    {
     "data": {
      "text/plain": [
       "array(['net.fast.web.browser', 'com.android.chrome', 'com.opera.browser',\n",
       "       'com.cloudmosa.puffinTV', 'com.brave.browser',\n",
       "       'com.vivaldi.browser', 'com.duckduckgo.mobile.android',\n",
       "       'com.transsion.phoenix'], dtype=object)"
      ]
     },
     "execution_count": 47,
     "metadata": {},
     "output_type": "execute_result"
    }
   ],
   "source": [
    "f['App ID'].unique()"
   ]
  },
  {
   "cell_type": "markdown",
   "id": "4eb4e53f",
   "metadata": {},
   "source": [
    "## Data Visualization"
   ]
  },
  {
   "cell_type": "code",
   "execution_count": 37,
   "id": "b01672f2",
   "metadata": {},
   "outputs": [
    {
     "data": {
      "image/png": "[encoded data removed]",
      "text/plain": [
       "<Figure size 216x216 with 1 Axes>"
      ]
     },
     "metadata": {
      "needs_background": "light"
     },
     "output_type": "display_data"
    }
   ],
   "source": [
    "f['Keyword'].value_counts().plot(kind='bar',alpha=0.6,figsize=(3,3) ,color='Green', align='center', width=0.5, edgecolor='Yellow')\n",
    "plt.xticks(rotation =90)\n",
    "plt.show()"
   ]
  },
  {
   "cell_type": "code",
   "execution_count": 51,
   "id": "887c18e8",
   "metadata": {},
   "outputs": [
    {
     "data": {
      "image/png": "[encoded data removed]",
      "text/plain": [
       "<Figure size 2160x1440 with 1 Axes>"
      ]
     },
     "metadata": {
      "needs_background": "light"
     },
     "output_type": "display_data"
    }
   ],
   "source": [
    "f['Rank'].value_counts().plot(kind='bar',alpha=0.6,figsize=(30,20) ,color='Orange', align='center', width=0.5, edgecolor='Yellow')\n",
    "plt.xticks(rotation =90)\n",
    "plt.show()"
   ]
  },
  {
   "cell_type": "code",
   "execution_count": 50,
   "id": "c50ecab6",
   "metadata": {},
   "outputs": [
    {
     "data": {
      "image/png": "[encoded data removed]",
      "text/plain": [
       "<Figure size 432x432 with 1 Axes>"
      ]
     },
     "metadata": {
      "needs_background": "light"
     },
     "output_type": "display_data"
    }
   ],
   "source": [
    "f['App ID'].value_counts().plot(kind='bar',alpha=0.6,figsize=(6,6) ,color='Blue', align='center', width=0.5, edgecolor='Yellow')\n",
    "plt.xticks(rotation =90)\n",
    "plt.show()"
   ]
  },
  {
   "cell_type": "markdown",
   "id": "687a7fd7",
   "metadata": {},
   "source": [
    "### Observations are:\n",
    "\n",
    "#### - Duck-Duck go is the browser used by maximum number of the users.\n",
    "\n",
    "#### - Maximum users ranked 1.\n",
    "\n",
    "#### - browser and android browser are the keywords used maximum number of times."
   ]
  },
  {
   "cell_type": "code",
   "execution_count": 53,
   "id": "74779298",
   "metadata": {},
   "outputs": [
    {
     "data": {
      "text/html": [
       "<div>\n",
       "<style scoped>\n",
       "    .dataframe tbody tr th:only-of-type {\n",
       "        vertical-align: middle;\n",
       "    }\n",
       "\n",
       "    .dataframe tbody tr th {\n",
       "        vertical-align: top;\n",
       "    }\n",
       "\n",
       "    .dataframe thead th {\n",
       "        text-align: right;\n",
       "    }\n",
       "</style>\n",
       "<table border=\"1\" class=\"dataframe\">\n",
       "  <thead>\n",
       "    <tr style=\"text-align: right;\">\n",
       "      <th></th>\n",
       "      <th>count</th>\n",
       "      <th>mean</th>\n",
       "      <th>std</th>\n",
       "      <th>min</th>\n",
       "      <th>25%</th>\n",
       "      <th>50%</th>\n",
       "      <th>75%</th>\n",
       "      <th>max</th>\n",
       "    </tr>\n",
       "  </thead>\n",
       "  <tbody>\n",
       "    <tr>\n",
       "      <th>Rank</th>\n",
       "      <td>3050.0</td>\n",
       "      <td>15.155738</td>\n",
       "      <td>24.268403</td>\n",
       "      <td>1.0</td>\n",
       "      <td>2.0</td>\n",
       "      <td>5.0</td>\n",
       "      <td>16.0</td>\n",
       "      <td>134.0</td>\n",
       "    </tr>\n",
       "  </tbody>\n",
       "</table>\n",
       "</div>"
      ],
      "text/plain": [
       "       count       mean        std  min  25%  50%   75%    max\n",
       "Rank  3050.0  15.155738  24.268403  1.0  2.0  5.0  16.0  134.0"
      ]
     },
     "execution_count": 53,
     "metadata": {},
     "output_type": "execute_result"
    }
   ],
   "source": [
    "f.describe().T"
   ]
  },
  {
   "cell_type": "code",
   "execution_count": 54,
   "id": "0161659f",
   "metadata": {},
   "outputs": [
    {
     "data": {
      "text/plain": [
       "7"
      ]
     },
     "execution_count": 54,
     "metadata": {},
     "output_type": "execute_result"
    }
   ],
   "source": [
    "f[S_D_L] = "
   ]
  },
  {
   "cell_type": "code",
   "execution_count": 57,
   "id": "9e3261b8",
   "metadata": {},
   "outputs": [
    {
     "data": {
      "text/plain": [
       "[3050]"
      ]
     },
     "execution_count": 57,
     "metadata": {},
     "output_type": "execute_result"
    }
   ],
   "source": [
    "[len(f['Short Description'])]"
   ]
  },
  {
   "cell_type": "markdown",
   "id": "508640a7",
   "metadata": {},
   "source": [
    "## Creating two columns of the length for short and long description"
   ]
  },
  {
   "cell_type": "code",
   "execution_count": 58,
   "id": "884e124f",
   "metadata": {},
   "outputs": [],
   "source": [
    "# Column for short description\n",
    "\n",
    "f['total_SDW'] = [len(x.split()) for x in f['Short Description'].tolist()]"
   ]
  },
  {
   "cell_type": "code",
   "execution_count": 61,
   "id": "7132b6d3",
   "metadata": {},
   "outputs": [],
   "source": [
    "# Column for long description\n",
    "\n",
    "f['total_LWD'] = [len(x.split()) for x in f['Long Description'].tolist()]"
   ]
  },
  {
   "cell_type": "code",
   "execution_count": 62,
   "id": "1923e823",
   "metadata": {},
   "outputs": [
    {
     "data": {
      "text/html": [
       "<div>\n",
       "<style scoped>\n",
       "    .dataframe tbody tr th:only-of-type {\n",
       "        vertical-align: middle;\n",
       "    }\n",
       "\n",
       "    .dataframe tbody tr th {\n",
       "        vertical-align: top;\n",
       "    }\n",
       "\n",
       "    .dataframe thead th {\n",
       "        text-align: right;\n",
       "    }\n",
       "</style>\n",
       "<table border=\"1\" class=\"dataframe\">\n",
       "  <thead>\n",
       "    <tr style=\"text-align: right;\">\n",
       "      <th></th>\n",
       "      <th>Keyword</th>\n",
       "      <th>Rank</th>\n",
       "      <th>Language</th>\n",
       "      <th>App ID</th>\n",
       "      <th>Short Description</th>\n",
       "      <th>Long Description</th>\n",
       "      <th>total_SDW</th>\n",
       "      <th>total_LWD</th>\n",
       "    </tr>\n",
       "    <tr>\n",
       "      <th>ID</th>\n",
       "      <th></th>\n",
       "      <th></th>\n",
       "      <th></th>\n",
       "      <th></th>\n",
       "      <th></th>\n",
       "      <th></th>\n",
       "      <th></th>\n",
       "      <th></th>\n",
       "    </tr>\n",
       "  </thead>\n",
       "  <tbody>\n",
       "    <tr>\n",
       "      <th>1</th>\n",
       "      <td>browser</td>\n",
       "      <td>2.0</td>\n",
       "      <td>en</td>\n",
       "      <td>net.fast.web.browser</td>\n",
       "      <td>The small, fastest, secure Web Browser, best m...</td>\n",
       "      <td>One of the smallest, fastest, secure Web Brows...</td>\n",
       "      <td>12</td>\n",
       "      <td>209</td>\n",
       "    </tr>\n",
       "    <tr>\n",
       "      <th>2</th>\n",
       "      <td>browser</td>\n",
       "      <td>3.0</td>\n",
       "      <td>en</td>\n",
       "      <td>com.android.chrome</td>\n",
       "      <td>Fast, simple, and secure. Google Chrome browse...</td>\n",
       "      <td>Google Chrome is a fast, easy to use, and secu...</td>\n",
       "      <td>12</td>\n",
       "      <td>426</td>\n",
       "    </tr>\n",
       "    <tr>\n",
       "      <th>3</th>\n",
       "      <td>browser</td>\n",
       "      <td>4.0</td>\n",
       "      <td>en</td>\n",
       "      <td>com.opera.browser</td>\n",
       "      <td>Fast, safe web browser: free VPN, Ad blocker, ...</td>\n",
       "      <td>Fast, safe and private, introducing the latest...</td>\n",
       "      <td>13</td>\n",
       "      <td>492</td>\n",
       "    </tr>\n",
       "    <tr>\n",
       "      <th>3</th>\n",
       "      <td>browser</td>\n",
       "      <td>4.0</td>\n",
       "      <td>en</td>\n",
       "      <td>com.opera.browser</td>\n",
       "      <td>Fast, safe web browser: free VPN, Ad blocker, ...</td>\n",
       "      <td>Opera is a fast, safe web browser for your And...</td>\n",
       "      <td>13</td>\n",
       "      <td>629</td>\n",
       "    </tr>\n",
       "    <tr>\n",
       "      <th>4</th>\n",
       "      <td>browser</td>\n",
       "      <td>1.0</td>\n",
       "      <td>en</td>\n",
       "      <td>com.cloudmosa.puffinTV</td>\n",
       "      <td>Puffin TV Browser - One App to Watch All Video...</td>\n",
       "      <td>Puffin TV Browser is a special edition of Puff...</td>\n",
       "      <td>13</td>\n",
       "      <td>239</td>\n",
       "    </tr>\n",
       "    <tr>\n",
       "      <th>...</th>\n",
       "      <td>...</td>\n",
       "      <td>...</td>\n",
       "      <td>...</td>\n",
       "      <td>...</td>\n",
       "      <td>...</td>\n",
       "      <td>...</td>\n",
       "      <td>...</td>\n",
       "      <td>...</td>\n",
       "    </tr>\n",
       "    <tr>\n",
       "      <th>131575</th>\n",
       "      <td>android browser</td>\n",
       "      <td>7.0</td>\n",
       "      <td>en</td>\n",
       "      <td>com.opera.browser</td>\n",
       "      <td>Fast, safe web browser: free VPN, Ad blocker, ...</td>\n",
       "      <td>Opera is a fast, safe web browser for your And...</td>\n",
       "      <td>13</td>\n",
       "      <td>629</td>\n",
       "    </tr>\n",
       "    <tr>\n",
       "      <th>131576</th>\n",
       "      <td>android browser</td>\n",
       "      <td>5.0</td>\n",
       "      <td>en</td>\n",
       "      <td>com.cloudmosa.puffinTV</td>\n",
       "      <td>Puffin TV Browser - One App to Watch All Video...</td>\n",
       "      <td>Puffin TV Browser is a special edition of Puff...</td>\n",
       "      <td>13</td>\n",
       "      <td>239</td>\n",
       "    </tr>\n",
       "    <tr>\n",
       "      <th>131576</th>\n",
       "      <td>android browser</td>\n",
       "      <td>5.0</td>\n",
       "      <td>en</td>\n",
       "      <td>com.cloudmosa.puffinTV</td>\n",
       "      <td>Puffin TV Browser - One App to Watch All Video...</td>\n",
       "      <td>Puffin TV Browser is a special edition of Puff...</td>\n",
       "      <td>13</td>\n",
       "      <td>283</td>\n",
       "    </tr>\n",
       "    <tr>\n",
       "      <th>131576</th>\n",
       "      <td>android browser</td>\n",
       "      <td>5.0</td>\n",
       "      <td>en</td>\n",
       "      <td>com.cloudmosa.puffinTV</td>\n",
       "      <td>Puffin TV Browser - One App to Watch All Video...</td>\n",
       "      <td>Puffin TV Browser is a special edition of Puff...</td>\n",
       "      <td>13</td>\n",
       "      <td>269</td>\n",
       "    </tr>\n",
       "    <tr>\n",
       "      <th>131576</th>\n",
       "      <td>android browser</td>\n",
       "      <td>5.0</td>\n",
       "      <td>en</td>\n",
       "      <td>com.cloudmosa.puffinTV</td>\n",
       "      <td>Puffin TV Browser - One App to Watch All Video...</td>\n",
       "      <td>Puffin TV Browser is a special edition of Puff...</td>\n",
       "      <td>13</td>\n",
       "      <td>245</td>\n",
       "    </tr>\n",
       "  </tbody>\n",
       "</table>\n",
       "<p>3050 rows × 8 columns</p>\n",
       "</div>"
      ],
      "text/plain": [
       "                Keyword  Rank Language                  App ID  \\\n",
       "ID                                                               \n",
       "1               browser   2.0       en    net.fast.web.browser   \n",
       "2               browser   3.0       en      com.android.chrome   \n",
       "3               browser   4.0       en       com.opera.browser   \n",
       "3               browser   4.0       en       com.opera.browser   \n",
       "4               browser   1.0       en  com.cloudmosa.puffinTV   \n",
       "...                 ...   ...      ...                     ...   \n",
       "131575  android browser   7.0       en       com.opera.browser   \n",
       "131576  android browser   5.0       en  com.cloudmosa.puffinTV   \n",
       "131576  android browser   5.0       en  com.cloudmosa.puffinTV   \n",
       "131576  android browser   5.0       en  com.cloudmosa.puffinTV   \n",
       "131576  android browser   5.0       en  com.cloudmosa.puffinTV   \n",
       "\n",
       "                                        Short Description  \\\n",
       "ID                                                          \n",
       "1       The small, fastest, secure Web Browser, best m...   \n",
       "2       Fast, simple, and secure. Google Chrome browse...   \n",
       "3       Fast, safe web browser: free VPN, Ad blocker, ...   \n",
       "3       Fast, safe web browser: free VPN, Ad blocker, ...   \n",
       "4       Puffin TV Browser - One App to Watch All Video...   \n",
       "...                                                   ...   \n",
       "131575  Fast, safe web browser: free VPN, Ad blocker, ...   \n",
       "131576  Puffin TV Browser - One App to Watch All Video...   \n",
       "131576  Puffin TV Browser - One App to Watch All Video...   \n",
       "131576  Puffin TV Browser - One App to Watch All Video...   \n",
       "131576  Puffin TV Browser - One App to Watch All Video...   \n",
       "\n",
       "                                         Long Description  total_SDW  \\\n",
       "ID                                                                     \n",
       "1       One of the smallest, fastest, secure Web Brows...         12   \n",
       "2       Google Chrome is a fast, easy to use, and secu...         12   \n",
       "3       Fast, safe and private, introducing the latest...         13   \n",
       "3       Opera is a fast, safe web browser for your And...         13   \n",
       "4       Puffin TV Browser is a special edition of Puff...         13   \n",
       "...                                                   ...        ...   \n",
       "131575  Opera is a fast, safe web browser for your And...         13   \n",
       "131576  Puffin TV Browser is a special edition of Puff...         13   \n",
       "131576  Puffin TV Browser is a special edition of Puff...         13   \n",
       "131576  Puffin TV Browser is a special edition of Puff...         13   \n",
       "131576  Puffin TV Browser is a special edition of Puff...         13   \n",
       "\n",
       "        total_LWD  \n",
       "ID                 \n",
       "1             209  \n",
       "2             426  \n",
       "3             492  \n",
       "3             629  \n",
       "4             239  \n",
       "...           ...  \n",
       "131575        629  \n",
       "131576        239  \n",
       "131576        283  \n",
       "131576        269  \n",
       "131576        245  \n",
       "\n",
       "[3050 rows x 8 columns]"
      ]
     },
     "execution_count": 62,
     "metadata": {},
     "output_type": "execute_result"
    }
   ],
   "source": [
    "f"
   ]
  },
  {
   "cell_type": "markdown",
   "id": "21c07e39",
   "metadata": {},
   "source": [
    "## Model for predicting the rank"
   ]
  },
  {
   "cell_type": "code",
   "execution_count": 63,
   "id": "d9086595",
   "metadata": {},
   "outputs": [],
   "source": [
    "X = f[['total_SDW','total_LWD']]  # note the double set of brackets\n",
    "\n",
    "y = f['Rank']"
   ]
  },
  {
   "cell_type": "code",
   "execution_count": 64,
   "id": "a497e593",
   "metadata": {},
   "outputs": [
    {
     "name": "stdout",
     "output_type": "stream",
     "text": [
      "Training Data Shape: (2043, 2)\n",
      "Testing Data Shape:  (1007, 2)\n"
     ]
    }
   ],
   "source": [
    "from sklearn.model_selection import train_test_split\n",
    "\n",
    "X_train, X_test, y_train, y_test = train_test_split(X, y, test_size=0.33, random_state=42)\n",
    "\n",
    "print('Training Data Shape:', X_train.shape)\n",
    "\n",
    "print('Testing Data Shape: ', X_test.shape)"
   ]
  },
  {
   "cell_type": "code",
   "execution_count": 71,
   "id": "3eba3fd0",
   "metadata": {},
   "outputs": [
    {
     "name": "stderr",
     "output_type": "stream",
     "text": [
      "C:\\Users\\nitin\\anaconda3\\lib\\site-packages\\sklearn\\linear_model\\_logistic.py:814: ConvergenceWarning: lbfgs failed to converge (status=1):\n",
      "STOP: TOTAL NO. of ITERATIONS REACHED LIMIT.\n",
      "\n",
      "Increase the number of iterations (max_iter) or scale the data as shown in:\n",
      "    https://scikit-learn.org/stable/modules/preprocessing.html\n",
      "Please also refer to the documentation for alternative solver options:\n",
      "    https://scikit-learn.org/stable/modules/linear_model.html#logistic-regression\n",
      "  n_iter_i = _check_optimize_result(\n"
     ]
    },
    {
     "data": {
      "text/plain": [
       "LogisticRegression()"
      ]
     },
     "execution_count": 71,
     "metadata": {},
     "output_type": "execute_result"
    }
   ],
   "source": [
    "from sklearn.linear_model import LogisticRegression\n",
    "\n",
    "lr_model = LogisticRegression(solver='lbfgs')\n",
    "\n",
    "lr_model.fit(X_train, y_train)"
   ]
  },
  {
   "cell_type": "code",
   "execution_count": 72,
   "id": "e898b512",
   "metadata": {},
   "outputs": [
    {
     "name": "stdout",
     "output_type": "stream",
     "text": [
      "[[157   8   0 ...   0   0   0]\n",
      " [ 77  98   0 ...   0   0   0]\n",
      " [ 32  30   0 ...   0   0   0]\n",
      " ...\n",
      " [  0   1   0 ...   0   0   0]\n",
      " [  0   0   1 ...   0   0   0]\n",
      " [  0   1   0 ...   0   0   0]]\n"
     ]
    }
   ],
   "source": [
    "from sklearn import metrics\n",
    "\n",
    "# Create a prediction set:\n",
    "predictions = lr_model.predict(X_test)\n",
    "\n",
    "# Print a confusion matrix\n",
    "print(metrics.confusion_matrix(y_test,predictions))"
   ]
  },
  {
   "cell_type": "code",
   "execution_count": 73,
   "id": "df35356b",
   "metadata": {},
   "outputs": [],
   "source": [
    "df = pd.DataFrame(metrics.confusion_matrix(y_test,predictions))"
   ]
  },
  {
   "cell_type": "code",
   "execution_count": 74,
   "id": "ae5ddcf7",
   "metadata": {},
   "outputs": [
    {
     "data": {
      "text/html": [
       "<div>\n",
       "<style scoped>\n",
       "    .dataframe tbody tr th:only-of-type {\n",
       "        vertical-align: middle;\n",
       "    }\n",
       "\n",
       "    .dataframe tbody tr th {\n",
       "        vertical-align: top;\n",
       "    }\n",
       "\n",
       "    .dataframe thead th {\n",
       "        text-align: right;\n",
       "    }\n",
       "</style>\n",
       "<table border=\"1\" class=\"dataframe\">\n",
       "  <thead>\n",
       "    <tr style=\"text-align: right;\">\n",
       "      <th></th>\n",
       "      <th>0</th>\n",
       "      <th>1</th>\n",
       "      <th>2</th>\n",
       "      <th>3</th>\n",
       "      <th>4</th>\n",
       "      <th>5</th>\n",
       "      <th>6</th>\n",
       "      <th>7</th>\n",
       "      <th>8</th>\n",
       "      <th>9</th>\n",
       "      <th>...</th>\n",
       "      <th>84</th>\n",
       "      <th>85</th>\n",
       "      <th>86</th>\n",
       "      <th>87</th>\n",
       "      <th>88</th>\n",
       "      <th>89</th>\n",
       "      <th>90</th>\n",
       "      <th>91</th>\n",
       "      <th>92</th>\n",
       "      <th>93</th>\n",
       "    </tr>\n",
       "  </thead>\n",
       "  <tbody>\n",
       "    <tr>\n",
       "      <th>0</th>\n",
       "      <td>157</td>\n",
       "      <td>8</td>\n",
       "      <td>0</td>\n",
       "      <td>0</td>\n",
       "      <td>0</td>\n",
       "      <td>0</td>\n",
       "      <td>0</td>\n",
       "      <td>0</td>\n",
       "      <td>0</td>\n",
       "      <td>0</td>\n",
       "      <td>...</td>\n",
       "      <td>0</td>\n",
       "      <td>0</td>\n",
       "      <td>0</td>\n",
       "      <td>0</td>\n",
       "      <td>0</td>\n",
       "      <td>0</td>\n",
       "      <td>0</td>\n",
       "      <td>0</td>\n",
       "      <td>0</td>\n",
       "      <td>0</td>\n",
       "    </tr>\n",
       "    <tr>\n",
       "      <th>1</th>\n",
       "      <td>77</td>\n",
       "      <td>98</td>\n",
       "      <td>0</td>\n",
       "      <td>0</td>\n",
       "      <td>0</td>\n",
       "      <td>0</td>\n",
       "      <td>0</td>\n",
       "      <td>0</td>\n",
       "      <td>0</td>\n",
       "      <td>0</td>\n",
       "      <td>...</td>\n",
       "      <td>0</td>\n",
       "      <td>0</td>\n",
       "      <td>0</td>\n",
       "      <td>0</td>\n",
       "      <td>0</td>\n",
       "      <td>0</td>\n",
       "      <td>0</td>\n",
       "      <td>0</td>\n",
       "      <td>0</td>\n",
       "      <td>0</td>\n",
       "    </tr>\n",
       "    <tr>\n",
       "      <th>2</th>\n",
       "      <td>32</td>\n",
       "      <td>30</td>\n",
       "      <td>0</td>\n",
       "      <td>0</td>\n",
       "      <td>0</td>\n",
       "      <td>0</td>\n",
       "      <td>0</td>\n",
       "      <td>0</td>\n",
       "      <td>0</td>\n",
       "      <td>0</td>\n",
       "      <td>...</td>\n",
       "      <td>0</td>\n",
       "      <td>0</td>\n",
       "      <td>0</td>\n",
       "      <td>0</td>\n",
       "      <td>0</td>\n",
       "      <td>0</td>\n",
       "      <td>0</td>\n",
       "      <td>0</td>\n",
       "      <td>0</td>\n",
       "      <td>0</td>\n",
       "    </tr>\n",
       "    <tr>\n",
       "      <th>3</th>\n",
       "      <td>30</td>\n",
       "      <td>39</td>\n",
       "      <td>0</td>\n",
       "      <td>0</td>\n",
       "      <td>0</td>\n",
       "      <td>0</td>\n",
       "      <td>0</td>\n",
       "      <td>0</td>\n",
       "      <td>0</td>\n",
       "      <td>0</td>\n",
       "      <td>...</td>\n",
       "      <td>0</td>\n",
       "      <td>0</td>\n",
       "      <td>0</td>\n",
       "      <td>0</td>\n",
       "      <td>0</td>\n",
       "      <td>0</td>\n",
       "      <td>0</td>\n",
       "      <td>0</td>\n",
       "      <td>0</td>\n",
       "      <td>0</td>\n",
       "    </tr>\n",
       "    <tr>\n",
       "      <th>4</th>\n",
       "      <td>13</td>\n",
       "      <td>27</td>\n",
       "      <td>0</td>\n",
       "      <td>0</td>\n",
       "      <td>0</td>\n",
       "      <td>0</td>\n",
       "      <td>0</td>\n",
       "      <td>0</td>\n",
       "      <td>0</td>\n",
       "      <td>0</td>\n",
       "      <td>...</td>\n",
       "      <td>0</td>\n",
       "      <td>0</td>\n",
       "      <td>0</td>\n",
       "      <td>0</td>\n",
       "      <td>0</td>\n",
       "      <td>0</td>\n",
       "      <td>0</td>\n",
       "      <td>0</td>\n",
       "      <td>0</td>\n",
       "      <td>0</td>\n",
       "    </tr>\n",
       "    <tr>\n",
       "      <th>...</th>\n",
       "      <td>...</td>\n",
       "      <td>...</td>\n",
       "      <td>...</td>\n",
       "      <td>...</td>\n",
       "      <td>...</td>\n",
       "      <td>...</td>\n",
       "      <td>...</td>\n",
       "      <td>...</td>\n",
       "      <td>...</td>\n",
       "      <td>...</td>\n",
       "      <td>...</td>\n",
       "      <td>...</td>\n",
       "      <td>...</td>\n",
       "      <td>...</td>\n",
       "      <td>...</td>\n",
       "      <td>...</td>\n",
       "      <td>...</td>\n",
       "      <td>...</td>\n",
       "      <td>...</td>\n",
       "      <td>...</td>\n",
       "      <td>...</td>\n",
       "    </tr>\n",
       "    <tr>\n",
       "      <th>89</th>\n",
       "      <td>0</td>\n",
       "      <td>1</td>\n",
       "      <td>0</td>\n",
       "      <td>0</td>\n",
       "      <td>0</td>\n",
       "      <td>0</td>\n",
       "      <td>0</td>\n",
       "      <td>0</td>\n",
       "      <td>0</td>\n",
       "      <td>0</td>\n",
       "      <td>...</td>\n",
       "      <td>0</td>\n",
       "      <td>0</td>\n",
       "      <td>0</td>\n",
       "      <td>0</td>\n",
       "      <td>0</td>\n",
       "      <td>0</td>\n",
       "      <td>0</td>\n",
       "      <td>0</td>\n",
       "      <td>0</td>\n",
       "      <td>0</td>\n",
       "    </tr>\n",
       "    <tr>\n",
       "      <th>90</th>\n",
       "      <td>0</td>\n",
       "      <td>1</td>\n",
       "      <td>1</td>\n",
       "      <td>0</td>\n",
       "      <td>0</td>\n",
       "      <td>0</td>\n",
       "      <td>0</td>\n",
       "      <td>0</td>\n",
       "      <td>0</td>\n",
       "      <td>0</td>\n",
       "      <td>...</td>\n",
       "      <td>0</td>\n",
       "      <td>0</td>\n",
       "      <td>0</td>\n",
       "      <td>0</td>\n",
       "      <td>0</td>\n",
       "      <td>0</td>\n",
       "      <td>0</td>\n",
       "      <td>0</td>\n",
       "      <td>0</td>\n",
       "      <td>0</td>\n",
       "    </tr>\n",
       "    <tr>\n",
       "      <th>91</th>\n",
       "      <td>0</td>\n",
       "      <td>1</td>\n",
       "      <td>0</td>\n",
       "      <td>0</td>\n",
       "      <td>0</td>\n",
       "      <td>0</td>\n",
       "      <td>0</td>\n",
       "      <td>0</td>\n",
       "      <td>0</td>\n",
       "      <td>0</td>\n",
       "      <td>...</td>\n",
       "      <td>0</td>\n",
       "      <td>0</td>\n",
       "      <td>0</td>\n",
       "      <td>0</td>\n",
       "      <td>0</td>\n",
       "      <td>0</td>\n",
       "      <td>0</td>\n",
       "      <td>0</td>\n",
       "      <td>0</td>\n",
       "      <td>0</td>\n",
       "    </tr>\n",
       "    <tr>\n",
       "      <th>92</th>\n",
       "      <td>0</td>\n",
       "      <td>0</td>\n",
       "      <td>1</td>\n",
       "      <td>0</td>\n",
       "      <td>0</td>\n",
       "      <td>0</td>\n",
       "      <td>0</td>\n",
       "      <td>0</td>\n",
       "      <td>0</td>\n",
       "      <td>0</td>\n",
       "      <td>...</td>\n",
       "      <td>0</td>\n",
       "      <td>0</td>\n",
       "      <td>0</td>\n",
       "      <td>0</td>\n",
       "      <td>0</td>\n",
       "      <td>0</td>\n",
       "      <td>0</td>\n",
       "      <td>0</td>\n",
       "      <td>0</td>\n",
       "      <td>0</td>\n",
       "    </tr>\n",
       "    <tr>\n",
       "      <th>93</th>\n",
       "      <td>0</td>\n",
       "      <td>1</td>\n",
       "      <td>0</td>\n",
       "      <td>0</td>\n",
       "      <td>0</td>\n",
       "      <td>0</td>\n",
       "      <td>0</td>\n",
       "      <td>0</td>\n",
       "      <td>0</td>\n",
       "      <td>0</td>\n",
       "      <td>...</td>\n",
       "      <td>0</td>\n",
       "      <td>0</td>\n",
       "      <td>0</td>\n",
       "      <td>0</td>\n",
       "      <td>0</td>\n",
       "      <td>0</td>\n",
       "      <td>0</td>\n",
       "      <td>0</td>\n",
       "      <td>0</td>\n",
       "      <td>0</td>\n",
       "    </tr>\n",
       "  </tbody>\n",
       "</table>\n",
       "<p>94 rows × 94 columns</p>\n",
       "</div>"
      ],
      "text/plain": [
       "     0   1   2   3   4   5   6   7   8   9   ...  84  85  86  87  88  89  90  \\\n",
       "0   157   8   0   0   0   0   0   0   0   0  ...   0   0   0   0   0   0   0   \n",
       "1    77  98   0   0   0   0   0   0   0   0  ...   0   0   0   0   0   0   0   \n",
       "2    32  30   0   0   0   0   0   0   0   0  ...   0   0   0   0   0   0   0   \n",
       "3    30  39   0   0   0   0   0   0   0   0  ...   0   0   0   0   0   0   0   \n",
       "4    13  27   0   0   0   0   0   0   0   0  ...   0   0   0   0   0   0   0   \n",
       "..  ...  ..  ..  ..  ..  ..  ..  ..  ..  ..  ...  ..  ..  ..  ..  ..  ..  ..   \n",
       "89    0   1   0   0   0   0   0   0   0   0  ...   0   0   0   0   0   0   0   \n",
       "90    0   1   1   0   0   0   0   0   0   0  ...   0   0   0   0   0   0   0   \n",
       "91    0   1   0   0   0   0   0   0   0   0  ...   0   0   0   0   0   0   0   \n",
       "92    0   0   1   0   0   0   0   0   0   0  ...   0   0   0   0   0   0   0   \n",
       "93    0   1   0   0   0   0   0   0   0   0  ...   0   0   0   0   0   0   0   \n",
       "\n",
       "    91  92  93  \n",
       "0    0   0   0  \n",
       "1    0   0   0  \n",
       "2    0   0   0  \n",
       "3    0   0   0  \n",
       "4    0   0   0  \n",
       "..  ..  ..  ..  \n",
       "89   0   0   0  \n",
       "90   0   0   0  \n",
       "91   0   0   0  \n",
       "92   0   0   0  \n",
       "93   0   0   0  \n",
       "\n",
       "[94 rows x 94 columns]"
      ]
     },
     "execution_count": 74,
     "metadata": {},
     "output_type": "execute_result"
    }
   ],
   "source": [
    "df"
   ]
  },
  {
   "cell_type": "code",
   "execution_count": 75,
   "id": "e79d0365",
   "metadata": {},
   "outputs": [
    {
     "name": "stdout",
     "output_type": "stream",
     "text": [
      "              precision    recall  f1-score   support\n",
      "\n",
      "         1.0       0.33      0.95      0.49       165\n",
      "         2.0       0.24      0.56      0.34       175\n",
      "         3.0       0.00      0.00      0.00        62\n",
      "         4.0       0.00      0.00      0.00        69\n",
      "         5.0       0.00      0.00      0.00        40\n",
      "         6.0       0.00      0.00      0.00        68\n",
      "         7.0       0.00      0.00      0.00        40\n",
      "         8.0       0.00      0.00      0.00        25\n",
      "         9.0       0.00      0.00      0.00        24\n",
      "        10.0       0.00      0.00      0.00        25\n",
      "        11.0       0.00      0.00      0.00        17\n",
      "        12.0       0.00      0.00      0.00        14\n",
      "        13.0       0.00      0.00      0.00        12\n",
      "        14.0       0.00      0.00      0.00        19\n",
      "        15.0       0.00      0.00      0.00        12\n",
      "        16.0       0.00      0.00      0.00        13\n",
      "        17.0       0.00      0.00      0.00         8\n",
      "        18.0       0.00      0.00      0.00        13\n",
      "        19.0       0.00      0.00      0.00         6\n",
      "        20.0       0.00      0.00      0.00        11\n",
      "        21.0       0.00      0.00      0.00        11\n",
      "        22.0       0.00      0.00      0.00        10\n",
      "        23.0       0.00      0.00      0.00         6\n",
      "        24.0       0.00      0.00      0.00         6\n",
      "        25.0       0.00      0.00      0.00         3\n",
      "        26.0       0.00      0.00      0.00         5\n",
      "        27.0       0.00      0.00      0.00         2\n",
      "        28.0       0.00      0.00      0.00         4\n",
      "        29.0       0.00      0.00      0.00         4\n",
      "        30.0       0.00      0.00      0.00         3\n",
      "        31.0       0.00      0.00      0.00         4\n",
      "        32.0       0.00      0.00      0.00         5\n",
      "        33.0       0.00      0.00      0.00         1\n",
      "        34.0       0.00      0.00      0.00         6\n",
      "        35.0       0.00      0.00      0.00         4\n",
      "        36.0       0.00      0.00      0.00         1\n",
      "        37.0       0.00      0.00      0.00         3\n",
      "        38.0       0.00      0.00      0.00         1\n",
      "        40.0       0.00      0.00      0.00         3\n",
      "        42.0       0.00      0.00      0.00         6\n",
      "        43.0       0.00      0.00      0.00         4\n",
      "        44.0       0.00      0.00      0.00         1\n",
      "        46.0       0.00      0.00      0.00         1\n",
      "        48.0       0.00      0.00      0.00         2\n",
      "        50.0       0.00      0.00      0.00         4\n",
      "        51.0       0.00      0.00      0.00         2\n",
      "        52.0       0.00      0.00      0.00         3\n",
      "        53.0       0.00      0.00      0.00         1\n",
      "        55.0       0.00      0.00      0.00         2\n",
      "        57.0       0.00      0.00      0.00         3\n",
      "        58.0       0.00      0.00      0.00         1\n",
      "        59.0       0.00      0.00      0.00         3\n",
      "        60.0       0.00      0.00      0.00         4\n",
      "        61.0       0.00      0.00      0.00         1\n",
      "        63.0       0.00      0.00      0.00         2\n",
      "        65.0       0.00      0.00      0.00         1\n",
      "        67.0       0.00      0.00      0.00         3\n",
      "        68.0       0.00      0.00      0.00         1\n",
      "        70.0       0.00      0.00      0.00         1\n",
      "        71.0       0.00      0.00      0.00         2\n",
      "        72.0       0.00      0.00      0.00         1\n",
      "        74.0       0.00      0.00      0.00         2\n",
      "        75.0       0.00      0.00      0.00         2\n",
      "        77.0       0.00      0.00      0.00         2\n",
      "        79.0       0.00      0.00      0.00         2\n",
      "        80.0       0.00      0.00      0.00         1\n",
      "        81.0       0.00      0.00      0.00         1\n",
      "        82.0       0.00      0.00      0.00         1\n",
      "        85.0       0.00      0.00      0.00         1\n",
      "        86.0       0.00      0.00      0.00         1\n",
      "        87.0       0.00      0.00      0.00         3\n",
      "        89.0       0.00      0.00      0.00         6\n",
      "        90.0       0.00      0.00      0.00         1\n",
      "        91.0       0.00      0.00      0.00         1\n",
      "        92.0       0.00      0.00      0.00         3\n",
      "        96.0       0.00      0.00      0.00         2\n",
      "        97.0       0.00      0.00      0.00         3\n",
      "        99.0       0.00      0.00      0.00         1\n",
      "       100.0       0.00      0.00      0.00         1\n",
      "       102.0       0.00      0.00      0.00         1\n",
      "       105.0       0.00      0.00      0.00         4\n",
      "       106.0       0.00      0.00      0.00         2\n",
      "       107.0       0.00      0.00      0.00         2\n",
      "       108.0       0.00      0.00      0.00         2\n",
      "       109.0       0.00      0.00      0.00         2\n",
      "       110.0       0.00      0.00      0.00         2\n",
      "       111.0       0.00      0.00      0.00         1\n",
      "       113.0       0.00      0.00      0.00         1\n",
      "       115.0       0.00      0.00      0.00         1\n",
      "       116.0       0.00      0.00      0.00         1\n",
      "       117.0       0.00      0.00      0.00         2\n",
      "       118.0       0.00      0.00      0.00         1\n",
      "       119.0       0.00      0.00      0.00         1\n",
      "       134.0       0.00      0.00      0.00         1\n",
      "\n",
      "    accuracy                           0.25      1007\n",
      "   macro avg       0.01      0.02      0.01      1007\n",
      "weighted avg       0.10      0.25      0.14      1007\n",
      "\n"
     ]
    },
    {
     "name": "stderr",
     "output_type": "stream",
     "text": [
      "C:\\Users\\nitin\\anaconda3\\lib\\site-packages\\sklearn\\metrics\\_classification.py:1318: UndefinedMetricWarning: Precision and F-score are ill-defined and being set to 0.0 in labels with no predicted samples. Use `zero_division` parameter to control this behavior.\n",
      "  _warn_prf(average, modifier, msg_start, len(result))\n",
      "C:\\Users\\nitin\\anaconda3\\lib\\site-packages\\sklearn\\metrics\\_classification.py:1318: UndefinedMetricWarning: Precision and F-score are ill-defined and being set to 0.0 in labels with no predicted samples. Use `zero_division` parameter to control this behavior.\n",
      "  _warn_prf(average, modifier, msg_start, len(result))\n",
      "C:\\Users\\nitin\\anaconda3\\lib\\site-packages\\sklearn\\metrics\\_classification.py:1318: UndefinedMetricWarning: Precision and F-score are ill-defined and being set to 0.0 in labels with no predicted samples. Use `zero_division` parameter to control this behavior.\n",
      "  _warn_prf(average, modifier, msg_start, len(result))\n"
     ]
    }
   ],
   "source": [
    "print(metrics.classification_report(y_test,predictions))"
   ]
  },
  {
   "cell_type": "code",
   "execution_count": 83,
   "id": "8cf128da",
   "metadata": {},
   "outputs": [],
   "source": [
    "import seaborn as sb\n",
    "\n",
    "import numpy as np"
   ]
  },
  {
   "cell_type": "markdown",
   "id": "ffae37e5",
   "metadata": {},
   "source": [
    "## Co-relation check between short description , long description and Rank"
   ]
  },
  {
   "cell_type": "code",
   "execution_count": 84,
   "id": "f99ff8ed",
   "metadata": {},
   "outputs": [
    {
     "data": {
      "text/html": [
       "<div>\n",
       "<style scoped>\n",
       "    .dataframe tbody tr th:only-of-type {\n",
       "        vertical-align: middle;\n",
       "    }\n",
       "\n",
       "    .dataframe tbody tr th {\n",
       "        vertical-align: top;\n",
       "    }\n",
       "\n",
       "    .dataframe thead th {\n",
       "        text-align: right;\n",
       "    }\n",
       "</style>\n",
       "<table border=\"1\" class=\"dataframe\">\n",
       "  <thead>\n",
       "    <tr style=\"text-align: right;\">\n",
       "      <th></th>\n",
       "      <th>Rank</th>\n",
       "      <th>total_SDW</th>\n",
       "      <th>total_LWD</th>\n",
       "    </tr>\n",
       "  </thead>\n",
       "  <tbody>\n",
       "    <tr>\n",
       "      <th>Rank</th>\n",
       "      <td>1.000000</td>\n",
       "      <td>0.164140</td>\n",
       "      <td>0.379807</td>\n",
       "    </tr>\n",
       "    <tr>\n",
       "      <th>total_SDW</th>\n",
       "      <td>0.164140</td>\n",
       "      <td>1.000000</td>\n",
       "      <td>0.224473</td>\n",
       "    </tr>\n",
       "    <tr>\n",
       "      <th>total_LWD</th>\n",
       "      <td>0.379807</td>\n",
       "      <td>0.224473</td>\n",
       "      <td>1.000000</td>\n",
       "    </tr>\n",
       "  </tbody>\n",
       "</table>\n",
       "</div>"
      ],
      "text/plain": [
       "               Rank  total_SDW  total_LWD\n",
       "Rank       1.000000   0.164140   0.379807\n",
       "total_SDW  0.164140   1.000000   0.224473\n",
       "total_LWD  0.379807   0.224473   1.000000"
      ]
     },
     "execution_count": 84,
     "metadata": {},
     "output_type": "execute_result"
    }
   ],
   "source": [
    "f.corr()"
   ]
  },
  {
   "cell_type": "markdown",
   "id": "a2d0a2ed",
   "metadata": {},
   "source": [
    "### We see there is not much significant dependency of Rank on description"
   ]
  },
  {
   "cell_type": "code",
   "execution_count": 86,
   "id": "d6d94e90",
   "metadata": {},
   "outputs": [],
   "source": [
    "from sklearn.model_selection import train_test_split\n",
    "X = f['App ID']  # note the double set of brackets\n",
    "y = f['Rank']\n",
    "\n",
    "X_train, X_test, y_train, y_test = train_test_split(X, y, test_size=0.33, random_state=42)"
   ]
  },
  {
   "cell_type": "code",
   "execution_count": 87,
   "id": "3e7e2549",
   "metadata": {},
   "outputs": [
    {
     "data": {
      "text/plain": [
       "(2043, 16)"
      ]
     },
     "execution_count": 87,
     "metadata": {},
     "output_type": "execute_result"
    }
   ],
   "source": [
    "from sklearn.feature_extraction.text import CountVectorizer\n",
    "\n",
    "count_vect = CountVectorizer()\n",
    "\n",
    "X_train_counts = count_vect.fit_transform(X_train)\n",
    "\n",
    "X_train_counts.shape"
   ]
  },
  {
   "cell_type": "code",
   "execution_count": 88,
   "id": "cc9ef6ef",
   "metadata": {},
   "outputs": [
    {
     "data": {
      "text/plain": [
       "(2043, 16)"
      ]
     },
     "execution_count": 88,
     "metadata": {},
     "output_type": "execute_result"
    }
   ],
   "source": [
    "from sklearn.feature_extraction.text import TfidfTransformer\n",
    "\n",
    "tfidf_transformer = TfidfTransformer()\n",
    "\n",
    "X_train_tfidf = tfidf_transformer.fit_transform(X_train_counts)\n",
    "\n",
    "X_train_tfidf.shape"
   ]
  },
  {
   "cell_type": "code",
   "execution_count": 89,
   "id": "f0909fe8",
   "metadata": {},
   "outputs": [
    {
     "data": {
      "text/plain": [
       "(2043, 16)"
      ]
     },
     "execution_count": 89,
     "metadata": {},
     "output_type": "execute_result"
    }
   ],
   "source": [
    "from sklearn.feature_extraction.text import TfidfVectorizer\n",
    "\n",
    "vectorizer = TfidfVectorizer()\n",
    "\n",
    "X_train_tfidf = vectorizer.fit_transform(X_train) # remember to use the original X_train set\n",
    "\n",
    "X_train_tfidf.shape"
   ]
  },
  {
   "cell_type": "code",
   "execution_count": 90,
   "id": "90f6817c",
   "metadata": {},
   "outputs": [
    {
     "data": {
      "text/plain": [
       "LinearSVC()"
      ]
     },
     "execution_count": 90,
     "metadata": {},
     "output_type": "execute_result"
    }
   ],
   "source": [
    "from sklearn.svm import LinearSVC\n",
    "\n",
    "clf = LinearSVC()\n",
    "\n",
    "clf.fit(X_train_tfidf,y_train)"
   ]
  },
  {
   "cell_type": "code",
   "execution_count": 91,
   "id": "c0631925",
   "metadata": {},
   "outputs": [
    {
     "data": {
      "text/plain": [
       "Pipeline(steps=[('tfidf', TfidfVectorizer()), ('clf', LinearSVC())])"
      ]
     },
     "execution_count": 91,
     "metadata": {},
     "output_type": "execute_result"
    }
   ],
   "source": [
    "from sklearn.pipeline import Pipeline\n",
    "\n",
    "text_clf = Pipeline([('tfidf', TfidfVectorizer()),\n",
    "                     ('clf', LinearSVC()),])\n",
    "\n",
    "# Feed the training data through the pipeline\n",
    "text_clf.fit(X_train, y_train)"
   ]
  },
  {
   "cell_type": "code",
   "execution_count": 92,
   "id": "30baf7ac",
   "metadata": {},
   "outputs": [],
   "source": [
    "predictions = text_clf.predict(X_test)"
   ]
  },
  {
   "cell_type": "code",
   "execution_count": 93,
   "id": "b6d870d0",
   "metadata": {},
   "outputs": [
    {
     "name": "stdout",
     "output_type": "stream",
     "text": [
      "[[142  22   1 ...   0   0   0]\n",
      " [  5 153  17 ...   0   0   0]\n",
      " [  6  44  12 ...   0   0   0]\n",
      " ...\n",
      " [  0   0   0 ...   0   0   0]\n",
      " [  0   0   0 ...   0   0   0]\n",
      " [  0   0   0 ...   0   0   0]]\n"
     ]
    }
   ],
   "source": [
    "# Report the confusion matrix\n",
    "from sklearn import metrics\n",
    "\n",
    "print(metrics.confusion_matrix(y_test,predictions))"
   ]
  },
  {
   "cell_type": "code",
   "execution_count": 94,
   "id": "399f1560",
   "metadata": {},
   "outputs": [
    {
     "name": "stdout",
     "output_type": "stream",
     "text": [
      "              precision    recall  f1-score   support\n",
      "\n",
      "         1.0       0.43      0.86      0.57       165\n",
      "         2.0       0.44      0.87      0.58       175\n",
      "         3.0       0.12      0.19      0.15        62\n",
      "         4.0       0.00      0.00      0.00        69\n",
      "         5.0       0.00      0.00      0.00        40\n",
      "         6.0       0.00      0.00      0.00        68\n",
      "         7.0       0.00      0.00      0.00        40\n",
      "         8.0       0.00      0.00      0.00        25\n",
      "         9.0       0.00      0.00      0.00        24\n",
      "        10.0       0.00      0.00      0.00        25\n",
      "        11.0       0.00      0.00      0.00        17\n",
      "        12.0       0.00      0.00      0.00        14\n",
      "        13.0       0.00      0.00      0.00        12\n",
      "        14.0       0.00      0.00      0.00        19\n",
      "        15.0       0.00      0.00      0.00        12\n",
      "        16.0       0.00      0.00      0.00        13\n",
      "        17.0       0.03      0.50      0.06         8\n",
      "        18.0       0.00      0.00      0.00        13\n",
      "        19.0       0.00      0.00      0.00         6\n",
      "        20.0       0.03      0.27      0.05        11\n",
      "        21.0       0.00      0.00      0.00        11\n",
      "        22.0       0.00      0.00      0.00        10\n",
      "        23.0       0.00      0.00      0.00         6\n",
      "        24.0       0.00      0.00      0.00         6\n",
      "        25.0       0.00      0.00      0.00         3\n",
      "        26.0       0.00      0.00      0.00         5\n",
      "        27.0       0.00      0.00      0.00         2\n",
      "        28.0       0.00      0.00      0.00         4\n",
      "        29.0       0.00      0.00      0.00         4\n",
      "        30.0       0.00      0.00      0.00         3\n",
      "        31.0       0.00      0.00      0.00         4\n",
      "        32.0       0.00      0.00      0.00         5\n",
      "        33.0       0.00      0.00      0.00         1\n",
      "        34.0       0.00      0.00      0.00         6\n",
      "        35.0       0.00      0.00      0.00         4\n",
      "        36.0       0.00      0.00      0.00         1\n",
      "        37.0       0.00      0.00      0.00         3\n",
      "        38.0       0.00      0.00      0.00         1\n",
      "        40.0       0.00      0.00      0.00         3\n",
      "        42.0       0.00      0.00      0.00         6\n",
      "        43.0       0.00      0.00      0.00         4\n",
      "        44.0       0.00      0.00      0.00         1\n",
      "        46.0       0.00      0.00      0.00         1\n",
      "        48.0       0.00      0.00      0.00         2\n",
      "        50.0       0.00      0.00      0.00         4\n",
      "        51.0       0.00      0.00      0.00         2\n",
      "        52.0       0.00      0.00      0.00         3\n",
      "        53.0       0.00      0.00      0.00         1\n",
      "        55.0       0.00      0.00      0.00         2\n",
      "        57.0       0.00      0.00      0.00         3\n",
      "        58.0       0.00      0.00      0.00         1\n",
      "        59.0       0.00      0.00      0.00         3\n",
      "        60.0       0.00      0.00      0.00         4\n",
      "        61.0       0.00      0.00      0.00         1\n",
      "        63.0       0.00      0.00      0.00         2\n",
      "        65.0       0.00      0.00      0.00         1\n",
      "        67.0       0.00      0.00      0.00         3\n",
      "        68.0       0.00      0.00      0.00         1\n",
      "        70.0       0.00      0.00      0.00         1\n",
      "        71.0       0.00      0.00      0.00         2\n",
      "        72.0       0.00      0.00      0.00         1\n",
      "        74.0       0.00      0.00      0.00         2\n",
      "        75.0       0.00      0.00      0.00         2\n",
      "        77.0       0.00      0.00      0.00         2\n",
      "        79.0       0.00      0.00      0.00         2\n",
      "        80.0       0.00      0.00      0.00         1\n",
      "        81.0       0.00      0.00      0.00         1\n",
      "        82.0       0.00      0.00      0.00         1\n",
      "        85.0       0.00      0.00      0.00         1\n",
      "        86.0       0.00      0.00      0.00         1\n",
      "        87.0       0.00      0.00      0.00         3\n",
      "        89.0       0.00      0.00      0.00         6\n",
      "        90.0       0.00      0.00      0.00         1\n",
      "        91.0       0.00      0.00      0.00         1\n",
      "        92.0       0.00      0.00      0.00         3\n",
      "        96.0       0.00      0.00      0.00         2\n",
      "        97.0       0.00      0.00      0.00         3\n",
      "        99.0       0.00      0.00      0.00         1\n",
      "       100.0       0.00      0.00      0.00         1\n",
      "       102.0       0.00      0.00      0.00         1\n",
      "       105.0       0.00      0.00      0.00         4\n",
      "       106.0       0.00      0.00      0.00         2\n",
      "       107.0       0.00      0.00      0.00         2\n",
      "       108.0       0.00      0.00      0.00         2\n",
      "       109.0       0.00      0.00      0.00         2\n",
      "       110.0       0.00      0.00      0.00         2\n",
      "       111.0       0.00      0.00      0.00         1\n",
      "       113.0       0.00      0.00      0.00         1\n",
      "       115.0       0.00      0.00      0.00         1\n",
      "       116.0       0.00      0.00      0.00         1\n",
      "       117.0       0.00      0.00      0.00         2\n",
      "       118.0       0.00      0.00      0.00         1\n",
      "       119.0       0.00      0.00      0.00         1\n",
      "       134.0       0.00      0.00      0.00         1\n",
      "\n",
      "    accuracy                           0.31      1007\n",
      "   macro avg       0.01      0.03      0.02      1007\n",
      "weighted avg       0.16      0.31      0.21      1007\n",
      "\n"
     ]
    },
    {
     "name": "stderr",
     "output_type": "stream",
     "text": [
      "C:\\Users\\nitin\\anaconda3\\lib\\site-packages\\sklearn\\metrics\\_classification.py:1318: UndefinedMetricWarning: Precision and F-score are ill-defined and being set to 0.0 in labels with no predicted samples. Use `zero_division` parameter to control this behavior.\n",
      "  _warn_prf(average, modifier, msg_start, len(result))\n",
      "C:\\Users\\nitin\\anaconda3\\lib\\site-packages\\sklearn\\metrics\\_classification.py:1318: UndefinedMetricWarning: Precision and F-score are ill-defined and being set to 0.0 in labels with no predicted samples. Use `zero_division` parameter to control this behavior.\n",
      "  _warn_prf(average, modifier, msg_start, len(result))\n",
      "C:\\Users\\nitin\\anaconda3\\lib\\site-packages\\sklearn\\metrics\\_classification.py:1318: UndefinedMetricWarning: Precision and F-score are ill-defined and being set to 0.0 in labels with no predicted samples. Use `zero_division` parameter to control this behavior.\n",
      "  _warn_prf(average, modifier, msg_start, len(result))\n"
     ]
    }
   ],
   "source": [
    "# Print a classification report\n",
    "\n",
    "print(metrics.classification_report(y_test,predictions))"
   ]
  },
  {
   "cell_type": "code",
   "execution_count": 95,
   "id": "7ed56603",
   "metadata": {},
   "outputs": [
    {
     "name": "stdout",
     "output_type": "stream",
     "text": [
      "0.3118172790466733\n"
     ]
    }
   ],
   "source": [
    "# Print the overall accuracy\n",
    "\n",
    "print(metrics.accuracy_score(y_test,predictions))"
   ]
  },
  {
   "cell_type": "markdown",
   "id": "673d9c18",
   "metadata": {},
   "source": [
    "### Accuracy of the model is very less.\n",
    "\n",
    "### Also, the recall and precision is significant for predicting the rank up 5."
   ]
  }
 ],
 "metadata": {
  "kernelspec": {
   "display_name": "Python 3 (ipykernel)",
   "language": "python",
   "name": "python3"
  },
  "language_info": {
   "codemirror_mode": {
    "name": "ipython",
    "version": 3
   },
   "file_extension": ".py",
   "mimetype": "text/x-python",
   "name": "python",
   "nbconvert_exporter": "python",
   "pygments_lexer": "ipython3",
   "version": "3.9.7"
  }
 },
 "nbformat": 4,
 "nbformat_minor": 5
}
